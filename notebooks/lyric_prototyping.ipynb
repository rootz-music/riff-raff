{
 "cells": [
  {
   "cell_type": "markdown",
   "id": "4c56c1bc",
   "metadata": {},
   "source": [
    "# Lyric Prototyping Demo\n",
    "Use this notebook to experiment with lyric generation."
   ]
  }
 ],
 "metadata": {
  "language_info": {
   "name": "python"
  }
 },
 "nbformat": 4,
 "nbformat_minor": 5
}
