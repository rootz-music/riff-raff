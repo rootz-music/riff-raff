{
 "cells": [
  {
   "cell_type": "markdown",
   "id": "df23c2bc",
   "metadata": {},
   "source": [
    "# MIDI Hook Demo\n",
    "Use this notebook to experiment with MIDI hook generation."
   ]
  }
 ],
 "metadata": {
  "language_info": {
   "name": "python"
  }
 },
 "nbformat": 4,
 "nbformat_minor": 5
}
